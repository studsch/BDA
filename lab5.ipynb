{
  "nbformat": 4,
  "nbformat_minor": 0,
  "metadata": {
    "colab": {
      "provenance": []
    },
    "kernelspec": {
      "name": "python3",
      "display_name": "Python 3"
    },
    "language_info": {
      "name": "python"
    }
  },
  "cells": [
    {
      "cell_type": "markdown",
      "source": [
        "## ЛР 5\n",
        "Apache Spark\n",
        "\n",
        "[источник набора данных](https://www.kaggle.com/datasets/mrdaniilak/russia-real-estate-2021/data)"
      ],
      "metadata": {
        "id": "ngtf9LunNSgU"
      }
    },
    {
      "cell_type": "markdown",
      "source": [
        "### Описание данных\n",
        "\n",
        "- date - дата публикации объявления;\n",
        "- price - цена в рублях;\n",
        "- level - этаж квартиры;\n",
        "- levels - количество этажей в доме;\n",
        "- rooms - количество жилых комнат (если значение равно \"-1\", то это означает \"квартира-студия\");\n",
        "- area - общая площадь квартиры;\n",
        "- kitchen_area - площадь кухни;\n",
        "- geo_lat - широта;\n",
        "- geo_lon - долгота;\n",
        "- building_type - тип фасада (0 - не знаю; 1 - другое; 2 - панельный; 3 - монолитный; 4 - кирпичный; 5 - блочный; 6 - деревянный);\n",
        "- object_type - тип квартиры (0 - вторичный рынок недвижимости; 2 - новостройка);\n",
        "- postal_code - почтовый индекс;\n",
        "- street_id - идентификатор улицы;\n",
        "- id_region - номер региона в России (всего 85 субъектов);\n",
        "- house_id - идентификатор дома."
      ],
      "metadata": {
        "id": "leYY2q17iBcH"
      }
    },
    {
      "cell_type": "code",
      "source": [
        "from pyspark.sql import SparkSession\n",
        "import pyspark.sql.functions as F"
      ],
      "metadata": {
        "id": "z2p-wSuRMMS8"
      },
      "execution_count": 1,
      "outputs": []
    },
    {
      "cell_type": "code",
      "source": [
        "spark = SparkSession.builder\\\n",
        "                    .master(\"local[*]\")\\\n",
        "                    .appName(\"pyspark\")\\\n",
        "                    .getOrCreate()"
      ],
      "metadata": {
        "id": "S_LxlcQEMPk3"
      },
      "execution_count": 2,
      "outputs": []
    },
    {
      "cell_type": "markdown",
      "source": [
        "### Импорт данных"
      ],
      "metadata": {
        "id": "O9W_5bLBRVZF"
      }
    },
    {
      "cell_type": "code",
      "source": [
        "DATA_ESTATE_ADS_PATH = \"data/input_data.csv\"\n",
        "DATA_REGIONS_PATH = \"data/regions.txt\"\n",
        "OUT_DATA_ESTATE_ADS_PATH = \"data/out_data.csv\""
      ],
      "metadata": {
        "id": "7e2uI9VVSj3R"
      },
      "execution_count": 3,
      "outputs": []
    },
    {
      "cell_type": "markdown",
      "source": [
        "#### структурированные данные"
      ],
      "metadata": {
        "id": "tj7VGDhaRduY"
      }
    },
    {
      "cell_type": "code",
      "source": [
        "df_estate_ads = (\n",
        "    spark.read\n",
        "    .option(\"delimiter\", \";\")\n",
        "    .option(\"header\", True)\n",
        "    .option(\"inferSchema\", True)\n",
        "    .csv(DATA_ESTATE_ADS_PATH)\n",
        ")\n",
        "\n",
        "df_estate_ads.printSchema()"
      ],
      "metadata": {
        "colab": {
          "base_uri": "https://localhost:8080/"
        },
        "id": "z-AESHoWNUTB",
        "outputId": "fd79e258-25d4-4467-c668-b1409bbc24ec"
      },
      "execution_count": 4,
      "outputs": [
        {
          "output_type": "stream",
          "name": "stdout",
          "text": [
            "root\n",
            " |-- date: date (nullable = true)\n",
            " |-- price: long (nullable = true)\n",
            " |-- level: integer (nullable = true)\n",
            " |-- levels: integer (nullable = true)\n",
            " |-- rooms: integer (nullable = true)\n",
            " |-- area: double (nullable = true)\n",
            " |-- kitchen_area: double (nullable = true)\n",
            " |-- geo_lat: double (nullable = true)\n",
            " |-- geo_lon: double (nullable = true)\n",
            " |-- building_type: integer (nullable = true)\n",
            " |-- object_type: integer (nullable = true)\n",
            " |-- postal_code: integer (nullable = true)\n",
            " |-- street_id: integer (nullable = true)\n",
            " |-- id_region: integer (nullable = true)\n",
            " |-- house_id: integer (nullable = true)\n",
            "\n"
          ]
        }
      ]
    },
    {
      "cell_type": "code",
      "source": [
        "df_estate_ads.show(5)"
      ],
      "metadata": {
        "colab": {
          "base_uri": "https://localhost:8080/"
        },
        "id": "wTfhtHj2SUHz",
        "outputId": "522c3b7d-5be0-4e1b-de1c-0f8aa890aef4"
      },
      "execution_count": 5,
      "outputs": [
        {
          "output_type": "stream",
          "name": "stdout",
          "text": [
            "+----------+--------+-----+------+-----+----+------------+----------+----------+-------------+-----------+-----------+---------+---------+--------+\n",
            "|      date|   price|level|levels|rooms|area|kitchen_area|   geo_lat|   geo_lon|building_type|object_type|postal_code|street_id|id_region|house_id|\n",
            "+----------+--------+-----+------+-----+----+------------+----------+----------+-------------+-----------+-----------+---------+---------+--------+\n",
            "|2021-01-01| 2451300|   15|    31|    1|30.3|         0.0|56.7801124|60.6993548|            0|          2|     620000|     NULL|       66| 1632918|\n",
            "|2021-01-01| 1450000|    5|     5|    1|33.0|         6.0|44.6081542|40.1383814|            0|          0|     385000|     NULL|        1|    NULL|\n",
            "|2021-01-01|10700000|    4|    13|    3|85.0|        12.0|55.5400601|37.7251124|            3|          0|     142701|   242543|       50|  681306|\n",
            "|2021-01-01| 3100000|    3|     5|    3|82.0|         9.0|44.6081542|40.1383814|            0|          0|     385000|     NULL|        1|    NULL|\n",
            "|2021-01-01| 2500000|    2|     3|    1|30.0|         9.0|44.7386846|37.7136681|            3|          2|     353960|   439378|       23| 1730985|\n",
            "+----------+--------+-----+------+-----+----+------------+----------+----------+-------------+-----------+-----------+---------+---------+--------+\n",
            "only showing top 5 rows\n",
            "\n"
          ]
        }
      ]
    },
    {
      "cell_type": "code",
      "source": [
        "df_estate_ads.describe().show()"
      ],
      "metadata": {
        "colab": {
          "base_uri": "https://localhost:8080/"
        },
        "id": "AsALX0O_XSlT",
        "outputId": "3d69ab05-16c7-4433-961b-0c03a0658e8a"
      },
      "execution_count": 6,
      "outputs": [
        {
          "output_type": "stream",
          "name": "stdout",
          "text": [
            "+-------+--------------------+-----------------+------------------+------------------+------------------+-------------------+-----------------+------------------+------------------+------------------+------------------+------------------+------------------+------------------+\n",
            "|summary|               price|            level|            levels|             rooms|              area|       kitchen_area|          geo_lat|           geo_lon|     building_type|       object_type|       postal_code|         street_id|         id_region|          house_id|\n",
            "+-------+--------------------+-----------------+------------------+------------------+------------------+-------------------+-----------------+------------------+------------------+------------------+------------------+------------------+------------------+------------------+\n",
            "|  count|            11358150|         11358150|          11358150|          11358150|          11358150|           11358150|         11358150|          11358150|          11358150|          11358150|          10850379|           7152596|          11358150|           8096207|\n",
            "|   mean|   6787516.414624917|6.426674678534797|11.762657915241478|1.7194170705616671|53.103558727730665|-2.6740708545758958|54.40393955339845| 52.29570286398232|1.0178199794860958|0.5275366146775663|403171.65910094016|352562.32868038403|  51.2551529958664|1703792.3133021425|\n",
            "| stddev|1.9771182842970282E8|5.283144467192123| 7.218441318941261|1.1576062318933622| 27.12844867828119|  32.41854932844849|4.582962001023038|21.838985621785174|1.5620773174443274|0.8813503377880887| 195961.8397847586|136648.50776963454|22.505267977537997|  640457.776335309|\n",
            "|    min|                   0|                0|                 0|                -1|               1.0|             -100.0|        41.437585|       -173.218911|                 0|                 0|                 0|            116187|                 1|            588606|\n",
            "|    max|        635552400000|               50|                50|                 9|             499.9|              408.0|        73.508895|        179.258303|                 6|                 2|            862163|            588597|               200|           2839173|\n",
            "+-------+--------------------+-----------------+------------------+------------------+------------------+-------------------+-----------------+------------------+------------------+------------------+------------------+------------------+------------------+------------------+\n",
            "\n"
          ]
        }
      ]
    },
    {
      "cell_type": "markdown",
      "source": [
        "##### пропуски"
      ],
      "metadata": {
        "id": "lZUGRZ71W83D"
      }
    },
    {
      "cell_type": "code",
      "source": [
        "df_estate_ads.select([\n",
        "    F.count(F.when(F.col(c).isNull(), c))\n",
        "    .alias(c) for c in df_estate_ads.columns\n",
        "]).show(vertical=True)"
      ],
      "metadata": {
        "colab": {
          "base_uri": "https://localhost:8080/"
        },
        "id": "AUofL-uZW7YL",
        "outputId": "bffe0402-4094-46c8-ba53-9fe61e46f601"
      },
      "execution_count": 7,
      "outputs": [
        {
          "output_type": "stream",
          "name": "stdout",
          "text": [
            "-RECORD 0----------------\n",
            " date          | 0       \n",
            " price         | 0       \n",
            " level         | 0       \n",
            " levels        | 0       \n",
            " rooms         | 0       \n",
            " area          | 0       \n",
            " kitchen_area  | 0       \n",
            " geo_lat       | 0       \n",
            " geo_lon       | 0       \n",
            " building_type | 0       \n",
            " object_type   | 0       \n",
            " postal_code   | 507771  \n",
            " street_id     | 4205554 \n",
            " id_region     | 0       \n",
            " house_id      | 3261943 \n",
            "\n"
          ]
        }
      ]
    },
    {
      "cell_type": "code",
      "source": [
        "df_estate_ads = df_estate_ads.dropna()"
      ],
      "metadata": {
        "id": "MY6YfcFtZKiV"
      },
      "execution_count": 8,
      "outputs": []
    },
    {
      "cell_type": "markdown",
      "source": [
        "##### дубликаты"
      ],
      "metadata": {
        "id": "ciEUrCH3Zvxo"
      }
    },
    {
      "cell_type": "code",
      "source": [
        "df_estate_ads.groupBy(df_estate_ads.columns)\\\n",
        "             .count()\\\n",
        "             .filter(\"count > 1\")\\\n",
        "             .agg(F.sum(\"count\") - F.count(\"*\"))\\\n",
        "             .show()"
      ],
      "metadata": {
        "colab": {
          "base_uri": "https://localhost:8080/"
        },
        "id": "5yR7ffvTZHMz",
        "outputId": "6880f310-3848-4ee0-ea3d-3b6c0eecef4a"
      },
      "execution_count": 9,
      "outputs": [
        {
          "output_type": "stream",
          "name": "stdout",
          "text": [
            "+-----------------------+\n",
            "|(sum(count) - count(1))|\n",
            "+-----------------------+\n",
            "|                 263751|\n",
            "+-----------------------+\n",
            "\n"
          ]
        }
      ]
    },
    {
      "cell_type": "code",
      "source": [
        "df_estate_ads = df_estate_ads.dropDuplicates()"
      ],
      "metadata": {
        "id": "0x40lNiTbheN"
      },
      "execution_count": 10,
      "outputs": []
    },
    {
      "cell_type": "markdown",
      "source": [
        "#### неструктурированные данные"
      ],
      "metadata": {
        "id": "rJCz6kroRitP"
      }
    },
    {
      "cell_type": "code",
      "source": [
        "df_regions = (\n",
        "    spark.read\n",
        "    .text(DATA_REGIONS_PATH)\n",
        "    .withColumn(\"id_region\", F.regexp_extract(\"value\", r\"Код региона (\\d+)\", 1).cast(\"int\"))\\\n",
        "    .withColumn(\"region_name\", F.regexp_extract(\"value\", r\"соответствует (.+)\", 1))\n",
        ")\n",
        "\n",
        "df_regions.printSchema()"
      ],
      "metadata": {
        "colab": {
          "base_uri": "https://localhost:8080/"
        },
        "id": "vYruXPcYRks4",
        "outputId": "637f5c14-5a27-4ecc-bd88-c1a958a1d4fb"
      },
      "execution_count": 11,
      "outputs": [
        {
          "output_type": "stream",
          "name": "stdout",
          "text": [
            "root\n",
            " |-- value: string (nullable = true)\n",
            " |-- id_region: integer (nullable = true)\n",
            " |-- region_name: string (nullable = true)\n",
            "\n"
          ]
        }
      ]
    },
    {
      "cell_type": "code",
      "source": [
        "df_regions = df_regions.select(\"id_region\", \"region_name\")\n",
        "df_regions.show(5, truncate=False)"
      ],
      "metadata": {
        "colab": {
          "base_uri": "https://localhost:8080/"
        },
        "id": "uquag1p_U0A5",
        "outputId": "965761e0-7afc-4bf1-866f-eb3091096183"
      },
      "execution_count": 12,
      "outputs": [
        {
          "output_type": "stream",
          "name": "stdout",
          "text": [
            "+---------+---------------------+\n",
            "|id_region|region_name          |\n",
            "+---------+---------------------+\n",
            "|78       |Санкт-Петербург      |\n",
            "|47       |Ленинградская область|\n",
            "|77       |Москва               |\n",
            "|92       |Севастополь          |\n",
            "|50       |Московская область   |\n",
            "+---------+---------------------+\n",
            "only showing top 5 rows\n",
            "\n"
          ]
        }
      ]
    },
    {
      "cell_type": "markdown",
      "source": [
        "##### объединение"
      ],
      "metadata": {
        "id": "fTjIb-f5c5tA"
      }
    },
    {
      "cell_type": "code",
      "source": [
        "df_estate_ads = df_estate_ads.join(\n",
        "    df_regions,\n",
        "    how=\"inner\",\n",
        "    on=\"id_region\"\n",
        ")\n",
        "\n",
        "df_estate_ads.printSchema()"
      ],
      "metadata": {
        "colab": {
          "base_uri": "https://localhost:8080/"
        },
        "id": "ynE7qcL2c9IJ",
        "outputId": "0a1c4218-0726-452d-fc68-6f31bf3592d4"
      },
      "execution_count": 13,
      "outputs": [
        {
          "output_type": "stream",
          "name": "stdout",
          "text": [
            "root\n",
            " |-- id_region: integer (nullable = true)\n",
            " |-- date: date (nullable = true)\n",
            " |-- price: long (nullable = true)\n",
            " |-- level: integer (nullable = true)\n",
            " |-- levels: integer (nullable = true)\n",
            " |-- rooms: integer (nullable = true)\n",
            " |-- area: double (nullable = true)\n",
            " |-- kitchen_area: double (nullable = true)\n",
            " |-- geo_lat: double (nullable = true)\n",
            " |-- geo_lon: double (nullable = true)\n",
            " |-- building_type: integer (nullable = true)\n",
            " |-- object_type: integer (nullable = true)\n",
            " |-- postal_code: integer (nullable = true)\n",
            " |-- street_id: integer (nullable = true)\n",
            " |-- house_id: integer (nullable = true)\n",
            " |-- region_name: string (nullable = true)\n",
            "\n"
          ]
        }
      ]
    },
    {
      "cell_type": "code",
      "source": [
        "df_estate_ads.show(1, vertical=True)"
      ],
      "metadata": {
        "colab": {
          "base_uri": "https://localhost:8080/"
        },
        "id": "z4LN1HDAdPNu",
        "outputId": "bba2c22f-e68a-44a9-86ce-fb7236952670"
      },
      "execution_count": 14,
      "outputs": [
        {
          "output_type": "stream",
          "name": "stdout",
          "text": [
            "-RECORD 0---------------------------\n",
            " id_region     | 23                 \n",
            " date          | 2021-01-01         \n",
            " price         | 5150000            \n",
            " level         | 9                  \n",
            " levels        | 10                 \n",
            " rooms         | 4                  \n",
            " area          | 83.6               \n",
            " kitchen_area  | 10.3               \n",
            " geo_lat       | 44.872946          \n",
            " geo_lon       | 37.3296834         \n",
            " building_type | 2                  \n",
            " object_type   | 0                  \n",
            " postal_code   | 353454             \n",
            " street_id     | 543620             \n",
            " house_id      | 2307522            \n",
            " region_name   | Краснодарский край \n",
            "only showing top 1 row\n",
            "\n"
          ]
        }
      ]
    },
    {
      "cell_type": "markdown",
      "source": [
        "### аналитика"
      ],
      "metadata": {
        "id": "z6UmJMpge3I-"
      }
    },
    {
      "cell_type": "code",
      "source": [
        "# средняя цена по регионам\n",
        "df_estate_ads.groupBy(\"region_name\")\\\n",
        "             .agg(F.format_number(F.avg(\"price\"), 2).alias(\"avg_price\"))\\\n",
        "             .orderBy(\"avg_price\", ascending=False)\\\n",
        "             .show(10, truncate=False)"
      ],
      "metadata": {
        "colab": {
          "base_uri": "https://localhost:8080/"
        },
        "id": "Lq-gicVye6U6",
        "outputId": "8e6ea728-56db-4690-c8ad-713732dd91b3"
      },
      "execution_count": 15,
      "outputs": [
        {
          "output_type": "stream",
          "name": "stdout",
          "text": [
            "+-------------------------------+------------+\n",
            "|region_name                    |avg_price   |\n",
            "+-------------------------------+------------+\n",
            "|Севастополь                    |8,599,063.23|\n",
            "|Краснодарский край             |8,215,112.41|\n",
            "|Московская область             |7,675,806.11|\n",
            "|Республика Тыва                |7,450,198.89|\n",
            "|Республика Саха (Якутия)       |7,262,566.11|\n",
            "|Калининградская область        |7,244,195.58|\n",
            "|Амурская область               |6,308,345.32|\n",
            "|Ленинградская область          |5,864,057.30|\n",
            "|Приморский край                |5,475,231.53|\n",
            "|Ямало-Ненецкий автономный округ|5,389,065.80|\n",
            "+-------------------------------+------------+\n",
            "only showing top 10 rows\n",
            "\n"
          ]
        }
      ]
    },
    {
      "cell_type": "code",
      "source": [
        "# самые дорогие объявления\n",
        "df_estate_ads.orderBy(F.desc(\"price\"))\\\n",
        "             .select(\"date\", \"price\", \"area\", \"region_name\")\\\n",
        "             .show(5, truncate=False)"
      ],
      "metadata": {
        "colab": {
          "base_uri": "https://localhost:8080/"
        },
        "id": "tkJjI8THgiWs",
        "outputId": "b1b89ac8-3c57-42f8-a122-a30b5cdf7a70"
      },
      "execution_count": 16,
      "outputs": [
        {
          "output_type": "stream",
          "name": "stdout",
          "text": [
            "+----------+------------+-----+-----------------------+\n",
            "|date      |price       |area |region_name            |\n",
            "+----------+------------+-----+-----------------------+\n",
            "|2021-05-04|125000000000|39.0 |Калининградская область|\n",
            "|2021-02-13|29637967130 |46.8 |Тюменская область      |\n",
            "|2021-04-03|26625690000 |245.0|Москва                 |\n",
            "|2021-09-03|17062177555 |173.0|Москва                 |\n",
            "|2021-02-05|13450000000 |74.0 |Московская область     |\n",
            "+----------+------------+-----+-----------------------+\n",
            "only showing top 5 rows\n",
            "\n"
          ]
        }
      ]
    },
    {
      "cell_type": "code",
      "source": [
        "# средняя цена от типа здания\n",
        "df_estate_ads.groupBy(\"building_type\")\\\n",
        "             .agg(F.format_number(F.avg(\"price\"), 2).alias(\"avg_price\"))\\\n",
        "             .orderBy(\"building_type\")\\\n",
        "             .show()"
      ],
      "metadata": {
        "colab": {
          "base_uri": "https://localhost:8080/"
        },
        "id": "7ifQsEjRhQ5p",
        "outputId": "5fc24c73-cf67-4abf-d808-b09094d19715"
      },
      "execution_count": 17,
      "outputs": [
        {
          "output_type": "stream",
          "name": "stdout",
          "text": [
            "+-------------+-------------+\n",
            "|building_type|    avg_price|\n",
            "+-------------+-------------+\n",
            "|            0| 8,610,709.31|\n",
            "|            1| 6,570,146.06|\n",
            "|            2| 4,455,978.33|\n",
            "|            3|11,356,618.50|\n",
            "|            4| 5,363,155.01|\n",
            "|            5| 5,520,507.57|\n",
            "|            6| 2,288,776.77|\n",
            "+-------------+-------------+\n",
            "\n"
          ]
        }
      ]
    },
    {
      "cell_type": "markdown",
      "source": [
        "### экспорт данных"
      ],
      "metadata": {
        "id": "0AHcYEy8dgCm"
      }
    },
    {
      "cell_type": "code",
      "source": [
        "# df_estate_ads.write\\\n",
        "#              .mode(\"overwrite\")\\\n",
        "#              .format(\"csv\")\\\n",
        "#              .option(\"header\", True)\\\n",
        "#              .save(OUT_DATA_ESTATE_ADS_PATH)"
      ],
      "metadata": {
        "id": "fxDGKFAbdpK6"
      },
      "execution_count": 18,
      "outputs": []
    },
    {
      "cell_type": "markdown",
      "source": [
        "### Машинное обучение"
      ],
      "metadata": {
        "id": "uB9o6qxVlvjN"
      }
    },
    {
      "cell_type": "code",
      "source": [
        "import pandas as pd\n",
        "import matplotlib.pyplot as plt\n",
        "\n",
        "from pyspark.ml.feature import VectorAssembler\n",
        "from pyspark.ml.evaluation import RegressionEvaluator\n",
        "from pyspark.ml.regression import RandomForestRegressor"
      ],
      "metadata": {
        "id": "XrPi0-eWnDke"
      },
      "execution_count": 19,
      "outputs": []
    },
    {
      "cell_type": "code",
      "source": [
        "df_moscow = df_estate_ads.filter(df_estate_ads.region_name == \"Москва\")"
      ],
      "metadata": {
        "id": "-SRxP6cvt3UR"
      },
      "execution_count": 20,
      "outputs": []
    },
    {
      "cell_type": "code",
      "source": [
        "quantiles = df_moscow.approxQuantile(\"price\", [0.25, 0.75], 0.01)\n",
        "q1 = quantiles[0]\n",
        "q3 = quantiles[1]\n",
        "iqr = q3 - q1\n",
        "\n",
        "lower = q1 - 1.5 * iqr\n",
        "upper = q3 + 1.5 * iqr\n",
        "\n",
        "df = df_moscow.filter(\n",
        "    (df_moscow.price >= lower) & (df_moscow.price <= upper)\n",
        ")"
      ],
      "metadata": {
        "id": "heW5ZYP0siFY"
      },
      "execution_count": 21,
      "outputs": []
    },
    {
      "cell_type": "code",
      "source": [
        "feature_cols = [\"level\", \"levels\", \"rooms\", \"area\", \"kitchen_area\", \"geo_lat\", \"geo_lon\", \"building_type\", \"object_type\"]\n",
        "\n",
        "assembler = VectorAssembler(inputCols=feature_cols, outputCol=\"features\")\n",
        "data = assembler.transform(df)"
      ],
      "metadata": {
        "id": "doFs701NomfO"
      },
      "execution_count": 22,
      "outputs": []
    },
    {
      "cell_type": "code",
      "source": [
        "train_data, test_data = data.randomSplit([0.8, 0.2], 42)"
      ],
      "metadata": {
        "id": "Q6nROLImpSD1"
      },
      "execution_count": 23,
      "outputs": []
    },
    {
      "cell_type": "code",
      "source": [
        "rfr = RandomForestRegressor(labelCol=\"price\")\n",
        "model = rfr.fit(train_data)"
      ],
      "metadata": {
        "id": "7NnMMzTHhtNh"
      },
      "execution_count": 24,
      "outputs": []
    },
    {
      "cell_type": "code",
      "source": [
        "pred = model.transform(test_data)\n",
        "rmse = RegressionEvaluator(\n",
        "    labelCol=\"price\",\n",
        "    predictionCol=\"prediction\",\n",
        "    metricName=\"rmse\"\n",
        ").evaluate(pred)\n",
        "print(f\"RMSE: {rmse:.2f}\")"
      ],
      "metadata": {
        "colab": {
          "base_uri": "https://localhost:8080/"
        },
        "id": "AnaGt4BMn0Ws",
        "outputId": "9292367e-8bba-4147-c6f1-360d7e41ea4f"
      },
      "execution_count": 25,
      "outputs": [
        {
          "output_type": "stream",
          "name": "stdout",
          "text": [
            "RMSE: 4067910.82\n"
          ]
        }
      ]
    },
    {
      "cell_type": "code",
      "source": [
        "pd.Series(model.featureImportances.toArray(), index=feature_cols).sort_values(ascending=False).plot(kind='barh')\n",
        "plt.title(\"Важность признаков\")\n",
        "plt.xlabel(\"Влияние\")\n",
        "plt.tight_layout()\n",
        "plt.show()"
      ],
      "metadata": {
        "colab": {
          "base_uri": "https://localhost:8080/",
          "height": 487
        },
        "id": "2omH6U5epoWc",
        "outputId": "78dfbdd0-2a15-480f-c8e9-a2ca36081cc9"
      },
      "execution_count": 26,
      "outputs": [
        {
          "output_type": "display_data",
          "data": {
            "text/plain": [
              "<Figure size 640x480 with 1 Axes>"
            ],
            "image/png": "[encoded data removed]"
          },
          "metadata": {}
        }
      ]
    }
  ]
}