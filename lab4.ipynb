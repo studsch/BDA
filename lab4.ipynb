{
  "nbformat": 4,
  "nbformat_minor": 0,
  "metadata": {
    "colab": {
      "provenance": []
    },
    "kernelspec": {
      "name": "python3",
      "display_name": "Python 3"
    },
    "language_info": {
      "name": "python"
    }
  },
  "cells": [
    {
      "cell_type": "markdown",
      "source": [
        "## ЛР 4\n",
        "Apache Spark\n",
        "\n",
        "[источник набора данных](https://www.kaggle.com/datasets/mrdaniilak/russia-real-estate-2021/data)"
      ],
      "metadata": {
        "id": "ngtf9LunNSgU"
      }
    },
    {
      "cell_type": "markdown",
      "source": [
        "### Описание данных\n",
        "\n",
        "- date - дата публикации объявления;\n",
        "- price - цена в рублях;\n",
        "- level - этаж квартиры;\n",
        "- levels - количество этажей в доме;\n",
        "- rooms - количество жилых комнат (если значение равно \"-1\", то это означает \"квартира-студия\");\n",
        "- area - общая площадь квартиры;\n",
        "- kitchen_area - площадь кухни;\n",
        "- geo_lat - широта;\n",
        "- geo_lon - долгота;\n",
        "- building_type - тип фасада (0 - не знаю; 1 - другое; 2 - панельный; 3 - монолитный; 4 - кирпичный; 5 - блочный; 6 - деревянный);\n",
        "- object_type - тип квартиры (0 - вторичный рынок недвижимости; 2 - новостройка);\n",
        "- postal_code - почтовый индекс;\n",
        "- street_id - идентификатор улицы;\n",
        "- id_region - номер региона в России (всего 85 субъектов);\n",
        "- house_id - идентификатор дома."
      ],
      "metadata": {
        "id": "leYY2q17iBcH"
      }
    },
    {
      "cell_type": "code",
      "source": [
        "from pyspark.sql import SparkSession\n",
        "import pyspark.sql.functions as F"
      ],
      "metadata": {
        "id": "z2p-wSuRMMS8"
      },
      "execution_count": 1,
      "outputs": []
    },
    {
      "cell_type": "code",
      "source": [
        "spark = SparkSession.builder\\\n",
        "                    .master(\"local[*]\")\\\n",
        "                    .appName(\"pyspark\")\\\n",
        "                    .getOrCreate()"
      ],
      "metadata": {
        "id": "S_LxlcQEMPk3"
      },
      "execution_count": 2,
      "outputs": []
    },
    {
      "cell_type": "markdown",
      "source": [
        "### Импорт данных"
      ],
      "metadata": {
        "id": "O9W_5bLBRVZF"
      }
    },
    {
      "cell_type": "code",
      "source": [
        "DATA_ESTATE_ADS_PATH = \"data/input_data.csv\"\n",
        "DATA_REGIONS_PATH = \"data/regions.txt\"\n",
        "OUT_DATA_ESTATE_ADS_PATH = \"data/out_data.csv\""
      ],
      "metadata": {
        "id": "7e2uI9VVSj3R"
      },
      "execution_count": 3,
      "outputs": []
    },
    {
      "cell_type": "markdown",
      "source": [
        "#### структурированные данные"
      ],
      "metadata": {
        "id": "tj7VGDhaRduY"
      }
    },
    {
      "cell_type": "code",
      "source": [
        "df_estate_ads = (\n",
        "    spark.read\n",
        "    .option(\"delimiter\", \";\")\n",
        "    .option(\"header\", True)\n",
        "    .option(\"inferSchema\", True)\n",
        "    .csv(DATA_ESTATE_ADS_PATH)\n",
        ")\n",
        "\n",
        "df_estate_ads.printSchema()"
      ],
      "metadata": {
        "colab": {
          "base_uri": "https://localhost:8080/"
        },
        "id": "z-AESHoWNUTB",
        "outputId": "79acc9e3-4156-4c40-c1f0-cac9f3fa7496"
      },
      "execution_count": 4,
      "outputs": [
        {
          "output_type": "stream",
          "name": "stdout",
          "text": [
            "root\n",
            " |-- date: date (nullable = true)\n",
            " |-- price: long (nullable = true)\n",
            " |-- level: integer (nullable = true)\n",
            " |-- levels: integer (nullable = true)\n",
            " |-- rooms: integer (nullable = true)\n",
            " |-- area: double (nullable = true)\n",
            " |-- kitchen_area: double (nullable = true)\n",
            " |-- geo_lat: double (nullable = true)\n",
            " |-- geo_lon: double (nullable = true)\n",
            " |-- building_type: integer (nullable = true)\n",
            " |-- object_type: integer (nullable = true)\n",
            " |-- postal_code: integer (nullable = true)\n",
            " |-- street_id: integer (nullable = true)\n",
            " |-- id_region: integer (nullable = true)\n",
            " |-- house_id: integer (nullable = true)\n",
            "\n"
          ]
        }
      ]
    },
    {
      "cell_type": "code",
      "source": [
        "df_estate_ads.show(5)"
      ],
      "metadata": {
        "colab": {
          "base_uri": "https://localhost:8080/"
        },
        "id": "wTfhtHj2SUHz",
        "outputId": "5d5482de-4757-4a88-b95a-1cb9d3930446"
      },
      "execution_count": 5,
      "outputs": [
        {
          "output_type": "stream",
          "name": "stdout",
          "text": [
            "+----------+--------+-----+------+-----+----+------------+----------+----------+-------------+-----------+-----------+---------+---------+--------+\n",
            "|      date|   price|level|levels|rooms|area|kitchen_area|   geo_lat|   geo_lon|building_type|object_type|postal_code|street_id|id_region|house_id|\n",
            "+----------+--------+-----+------+-----+----+------------+----------+----------+-------------+-----------+-----------+---------+---------+--------+\n",
            "|2021-01-01| 2451300|   15|    31|    1|30.3|         0.0|56.7801124|60.6993548|            0|          2|     620000|     NULL|       66| 1632918|\n",
            "|2021-01-01| 1450000|    5|     5|    1|33.0|         6.0|44.6081542|40.1383814|            0|          0|     385000|     NULL|        1|    NULL|\n",
            "|2021-01-01|10700000|    4|    13|    3|85.0|        12.0|55.5400601|37.7251124|            3|          0|     142701|   242543|       50|  681306|\n",
            "|2021-01-01| 3100000|    3|     5|    3|82.0|         9.0|44.6081542|40.1383814|            0|          0|     385000|     NULL|        1|    NULL|\n",
            "|2021-01-01| 2500000|    2|     3|    1|30.0|         9.0|44.7386846|37.7136681|            3|          2|     353960|   439378|       23| 1730985|\n",
            "+----------+--------+-----+------+-----+----+------------+----------+----------+-------------+-----------+-----------+---------+---------+--------+\n",
            "only showing top 5 rows\n",
            "\n"
          ]
        }
      ]
    },
    {
      "cell_type": "code",
      "source": [
        "df_estate_ads.describe().show()"
      ],
      "metadata": {
        "colab": {
          "base_uri": "https://localhost:8080/"
        },
        "id": "AsALX0O_XSlT",
        "outputId": "282e288a-0f51-49cc-c43e-72a01923de1b"
      },
      "execution_count": 6,
      "outputs": [
        {
          "output_type": "stream",
          "name": "stdout",
          "text": [
            "+-------+------------------+-----------------+-----------------+------------------+-----------------+------------------+-----------------+------------------+------------------+------------------+------------------+-----------------+------------------+------------------+\n",
            "|summary|             price|            level|           levels|             rooms|             area|      kitchen_area|          geo_lat|           geo_lon|     building_type|       object_type|       postal_code|        street_id|         id_region|          house_id|\n",
            "+-------+------------------+-----------------+-----------------+------------------+-----------------+------------------+-----------------+------------------+------------------+------------------+------------------+-----------------+------------------+------------------+\n",
            "|  count|            490772|           490772|           490772|            490772|           490772|            490772|           490772|            490771|            490771|            490771|            468337|           325036|            490771|            367665|\n",
            "|   mean| 7024228.540823437|6.257321118564222|11.36053605340158| 1.754319724841678|53.83546562966055|-4.785641825532121|54.22634946146817| 52.69089060210515|1.8101517815844865| 0.530039468509753|402695.63312102185|352400.9670498037| 49.49056688353631|1713557.2891844478|\n",
            "| stddev|9.07670557594093E8|5.264203356384525|7.161312034252458|1.1690959360009257|27.64808666515991|  35.1801400117244|4.573039473340752|22.698205206440395|1.7131517662042017|0.8826883291526808| 193991.2568143349|136954.8849438512|22.843366747555507| 640610.9606373154|\n",
            "|    min|                 0|                0|                0|                -1|              2.0|            -100.0|        41.860228|          19.89171|                 0|                 0|                 0|           116187|                 1|            588607|\n",
            "|    max|      635552400000|               50|               50|                 9|            499.0|             206.0|       71.6348273|        177.521806|                 6|                 2|            862163|           588586|               200|           2839140|\n",
            "+-------+------------------+-----------------+-----------------+------------------+-----------------+------------------+-----------------+------------------+------------------+------------------+------------------+-----------------+------------------+------------------+\n",
            "\n"
          ]
        }
      ]
    },
    {
      "cell_type": "markdown",
      "source": [
        "##### пропуски"
      ],
      "metadata": {
        "id": "lZUGRZ71W83D"
      }
    },
    {
      "cell_type": "code",
      "source": [
        "df_estate_ads.select([\n",
        "    F.count(F.when(F.col(c).isNull(), c))\n",
        "    .alias(c) for c in df_estate_ads.columns\n",
        "]).show(vertical=True)"
      ],
      "metadata": {
        "colab": {
          "base_uri": "https://localhost:8080/"
        },
        "id": "AUofL-uZW7YL",
        "outputId": "032aebc5-ae2f-4e64-de0f-efe2d5996816"
      },
      "execution_count": 7,
      "outputs": [
        {
          "output_type": "stream",
          "name": "stdout",
          "text": [
            "-RECORD 0---------------\n",
            " date          | 0      \n",
            " price         | 0      \n",
            " level         | 0      \n",
            " levels        | 0      \n",
            " rooms         | 0      \n",
            " area          | 0      \n",
            " kitchen_area  | 0      \n",
            " geo_lat       | 0      \n",
            " geo_lon       | 1      \n",
            " building_type | 1      \n",
            " object_type   | 1      \n",
            " postal_code   | 22435  \n",
            " street_id     | 165736 \n",
            " id_region     | 1      \n",
            " house_id      | 123107 \n",
            "\n"
          ]
        }
      ]
    },
    {
      "cell_type": "code",
      "source": [
        "df_estate_ads = df_estate_ads.dropna()"
      ],
      "metadata": {
        "id": "MY6YfcFtZKiV"
      },
      "execution_count": 8,
      "outputs": []
    },
    {
      "cell_type": "markdown",
      "source": [
        "##### дубликаты"
      ],
      "metadata": {
        "id": "ciEUrCH3Zvxo"
      }
    },
    {
      "cell_type": "code",
      "source": [
        "df_estate_ads.groupBy(df_estate_ads.columns)\\\n",
        "             .count()\\\n",
        "             .filter(\"count > 1\")\\\n",
        "             .agg(F.sum(\"count\") - F.count(\"*\"))\\\n",
        "             .show()"
      ],
      "metadata": {
        "colab": {
          "base_uri": "https://localhost:8080/"
        },
        "id": "5yR7ffvTZHMz",
        "outputId": "db060398-1f0c-45b5-b5a6-4b48cffdcf20"
      },
      "execution_count": 9,
      "outputs": [
        {
          "output_type": "stream",
          "name": "stdout",
          "text": [
            "+-----------------------+\n",
            "|(sum(count) - count(1))|\n",
            "+-----------------------+\n",
            "|                   6415|\n",
            "+-----------------------+\n",
            "\n"
          ]
        }
      ]
    },
    {
      "cell_type": "code",
      "source": [
        "df_estate_ads = df_estate_ads.dropDuplicates()"
      ],
      "metadata": {
        "id": "0x40lNiTbheN"
      },
      "execution_count": 10,
      "outputs": []
    },
    {
      "cell_type": "markdown",
      "source": [
        "#### неструктурированные данные"
      ],
      "metadata": {
        "id": "rJCz6kroRitP"
      }
    },
    {
      "cell_type": "code",
      "source": [
        "df_regions = (\n",
        "    spark.read\n",
        "    .text(DATA_REGIONS_PATH)\n",
        "    .withColumn(\"id_region\", F.regexp_extract(\"value\", r\"Код региона (\\d+)\", 1).cast(\"int\"))\\\n",
        "    .withColumn(\"region_name\", F.regexp_extract(\"value\", r\"соответствует (.+)\", 1))\n",
        ")\n",
        "\n",
        "df_regions.printSchema()"
      ],
      "metadata": {
        "colab": {
          "base_uri": "https://localhost:8080/"
        },
        "id": "vYruXPcYRks4",
        "outputId": "fafea610-fdf5-485e-ebbb-aaddcc891a25"
      },
      "execution_count": 11,
      "outputs": [
        {
          "output_type": "stream",
          "name": "stdout",
          "text": [
            "root\n",
            " |-- value: string (nullable = true)\n",
            " |-- id_region: integer (nullable = true)\n",
            " |-- region_name: string (nullable = true)\n",
            "\n"
          ]
        }
      ]
    },
    {
      "cell_type": "code",
      "source": [
        "df_regions = df_regions.select(\"id_region\", \"region_name\")\n",
        "df_regions.show(5, truncate=False)"
      ],
      "metadata": {
        "colab": {
          "base_uri": "https://localhost:8080/"
        },
        "id": "uquag1p_U0A5",
        "outputId": "0d5ccfc0-18c2-4c5d-9f39-e1d62a378f7b"
      },
      "execution_count": 12,
      "outputs": [
        {
          "output_type": "stream",
          "name": "stdout",
          "text": [
            "+---------+---------------------+\n",
            "|id_region|region_name          |\n",
            "+---------+---------------------+\n",
            "|78       |Санкт-Петербург      |\n",
            "|47       |Ленинградская область|\n",
            "|77       |Москва               |\n",
            "|92       |Севастополь          |\n",
            "|50       |Московская область   |\n",
            "+---------+---------------------+\n",
            "only showing top 5 rows\n",
            "\n"
          ]
        }
      ]
    },
    {
      "cell_type": "markdown",
      "source": [
        "##### объединение"
      ],
      "metadata": {
        "id": "fTjIb-f5c5tA"
      }
    },
    {
      "cell_type": "code",
      "source": [
        "df_estate_ads = df_estate_ads.join(\n",
        "    df_regions,\n",
        "    how=\"inner\",\n",
        "    on=\"id_region\"\n",
        ")\n",
        "\n",
        "df_estate_ads.printSchema()"
      ],
      "metadata": {
        "colab": {
          "base_uri": "https://localhost:8080/"
        },
        "id": "ynE7qcL2c9IJ",
        "outputId": "5f228860-62b3-4891-d6fd-e63707e7f4fb"
      },
      "execution_count": 13,
      "outputs": [
        {
          "output_type": "stream",
          "name": "stdout",
          "text": [
            "root\n",
            " |-- id_region: integer (nullable = true)\n",
            " |-- date: date (nullable = true)\n",
            " |-- price: long (nullable = true)\n",
            " |-- level: integer (nullable = true)\n",
            " |-- levels: integer (nullable = true)\n",
            " |-- rooms: integer (nullable = true)\n",
            " |-- area: double (nullable = true)\n",
            " |-- kitchen_area: double (nullable = true)\n",
            " |-- geo_lat: double (nullable = true)\n",
            " |-- geo_lon: double (nullable = true)\n",
            " |-- building_type: integer (nullable = true)\n",
            " |-- object_type: integer (nullable = true)\n",
            " |-- postal_code: integer (nullable = true)\n",
            " |-- street_id: integer (nullable = true)\n",
            " |-- house_id: integer (nullable = true)\n",
            " |-- region_name: string (nullable = true)\n",
            "\n"
          ]
        }
      ]
    },
    {
      "cell_type": "code",
      "source": [
        "df_estate_ads.show(1, vertical=True)"
      ],
      "metadata": {
        "colab": {
          "base_uri": "https://localhost:8080/"
        },
        "id": "z4LN1HDAdPNu",
        "outputId": "48a97b47-fb24-420e-9d49-1809fad55867"
      },
      "execution_count": 14,
      "outputs": [
        {
          "output_type": "stream",
          "name": "stdout",
          "text": [
            "-RECORD 0---------------------------\n",
            " id_region     | 23                 \n",
            " date          | 2021-01-01         \n",
            " price         | 5150000            \n",
            " level         | 9                  \n",
            " levels        | 10                 \n",
            " rooms         | 4                  \n",
            " area          | 83.6               \n",
            " kitchen_area  | 10.3               \n",
            " geo_lat       | 44.872946          \n",
            " geo_lon       | 37.3296834         \n",
            " building_type | 2                  \n",
            " object_type   | 0                  \n",
            " postal_code   | 353454             \n",
            " street_id     | 543620             \n",
            " house_id      | 2307522            \n",
            " region_name   | Краснодарский край \n",
            "only showing top 1 row\n",
            "\n"
          ]
        }
      ]
    },
    {
      "cell_type": "markdown",
      "source": [
        "### аналитика"
      ],
      "metadata": {
        "id": "z6UmJMpge3I-"
      }
    },
    {
      "cell_type": "code",
      "source": [
        "# средняя цена по регионам\n",
        "df_estate_ads.groupBy(\"region_name\")\\\n",
        "             .agg(F.format_number(F.avg(\"price\"), 2).alias(\"avg_price\"))\\\n",
        "             .orderBy(\"avg_price\", ascending=False)\\\n",
        "             .show(10, truncate=False)"
      ],
      "metadata": {
        "colab": {
          "base_uri": "https://localhost:8080/"
        },
        "id": "Lq-gicVye6U6",
        "outputId": "2e6fac9f-2bc9-4372-c2f6-677fd19109f6"
      },
      "execution_count": 15,
      "outputs": [
        {
          "output_type": "stream",
          "name": "stdout",
          "text": [
            "+-----------------------+------------+\n",
            "|region_name            |avg_price   |\n",
            "+-----------------------+------------+\n",
            "|Республика Бурятия     |8,665,883.15|\n",
            "|Московская область     |6,561,304.84|\n",
            "|Севастополь            |6,499,573.34|\n",
            "|Калужская область      |5,979,123.66|\n",
            "|Ленинградская область  |5,611,646.67|\n",
            "|Краснодарский край     |5,520,742.49|\n",
            "|Калининградская область|5,209,131.57|\n",
            "|Амурская область       |5,147,476.97|\n",
            "|Приморский край        |4,834,785.60|\n",
            "|Республика Тыва        |4,778,210.53|\n",
            "+-----------------------+------------+\n",
            "only showing top 10 rows\n",
            "\n"
          ]
        }
      ]
    },
    {
      "cell_type": "code",
      "source": [
        "# самые дорогие объявления\n",
        "df_estate_ads.orderBy(F.desc(\"price\"))\\\n",
        "             .select(\"date\", \"price\", \"area\", \"region_name\")\\\n",
        "             .show(5, truncate=False)"
      ],
      "metadata": {
        "colab": {
          "base_uri": "https://localhost:8080/"
        },
        "id": "tkJjI8THgiWs",
        "outputId": "2b47c503-7b9f-4092-ccc5-8f470cf734d4"
      },
      "execution_count": 16,
      "outputs": [
        {
          "output_type": "stream",
          "name": "stdout",
          "text": [
            "+----------+----------+----+------------------+\n",
            "|date      |price     |area|region_name       |\n",
            "+----------+----------+----+------------------+\n",
            "|2021-01-15|6500000000|95.8|Республика Бурятия|\n",
            "|2021-01-27|6230000128|57.0|Тюменская область |\n",
            "|2021-01-07|5500000256|61.5|Калужская область |\n",
            "|2021-01-28|5310000128|60.0|Тюменская область |\n",
            "|2021-01-23|3850000000|71.0|Калужская область |\n",
            "+----------+----------+----+------------------+\n",
            "only showing top 5 rows\n",
            "\n"
          ]
        }
      ]
    },
    {
      "cell_type": "code",
      "source": [
        "# средняя цена от типа здания\n",
        "df_estate_ads.groupBy(\"building_type\")\\\n",
        "             .agg(F.format_number(F.avg(\"price\"), 2).alias(\"avg_price\"))\\\n",
        "             .orderBy(\"building_type\")\\\n",
        "             .show()"
      ],
      "metadata": {
        "colab": {
          "base_uri": "https://localhost:8080/"
        },
        "id": "7ifQsEjRhQ5p",
        "outputId": "451bc246-14aa-4b93-97bc-26361e135852"
      },
      "execution_count": 17,
      "outputs": [
        {
          "output_type": "stream",
          "name": "stdout",
          "text": [
            "+-------------+-------------+\n",
            "|building_type|    avg_price|\n",
            "+-------------+-------------+\n",
            "|            0| 7,831,731.55|\n",
            "|            1| 5,835,191.56|\n",
            "|            2| 3,835,645.47|\n",
            "|            3|11,419,633.73|\n",
            "|            4| 4,640,876.04|\n",
            "|            5| 4,503,950.24|\n",
            "|            6| 2,430,807.10|\n",
            "+-------------+-------------+\n",
            "\n"
          ]
        }
      ]
    },
    {
      "cell_type": "markdown",
      "source": [
        "### экспорт данных"
      ],
      "metadata": {
        "id": "0AHcYEy8dgCm"
      }
    },
    {
      "cell_type": "code",
      "source": [
        "df_estate_ads.write\\\n",
        "             .mode(\"overwrite\")\\\n",
        "             .format(\"csv\")\\\n",
        "             .option(\"header\", True)\\\n",
        "             .save(OUT_DATA_ESTATE_ADS_PATH)"
      ],
      "metadata": {
        "id": "fxDGKFAbdpK6"
      },
      "execution_count": 18,
      "outputs": []
    }
  ]
}